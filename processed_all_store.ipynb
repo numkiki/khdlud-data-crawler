{
 "cells": [
  {
   "cell_type": "code",
   "execution_count": 611,
   "metadata": {},
   "outputs": [],
   "source": [
    "import pandas as pd\n",
    "import numpy as np"
   ]
  },
  {
   "cell_type": "code",
   "execution_count": 612,
   "metadata": {},
   "outputs": [
    {
     "data": {
      "text/html": [
       "<div>\n",
       "<style scoped>\n",
       "    .dataframe tbody tr th:only-of-type {\n",
       "        vertical-align: middle;\n",
       "    }\n",
       "\n",
       "    .dataframe tbody tr th {\n",
       "        vertical-align: top;\n",
       "    }\n",
       "\n",
       "    .dataframe thead th {\n",
       "        text-align: right;\n",
       "    }\n",
       "</style>\n",
       "<table border=\"1\" class=\"dataframe\">\n",
       "  <thead>\n",
       "    <tr style=\"text-align: right;\">\n",
       "      <th></th>\n",
       "      <th>Unnamed: 0</th>\n",
       "      <th>Tên điện thoại</th>\n",
       "      <th>Hãng</th>\n",
       "      <th>Giá tiền</th>\n",
       "      <th>Nhà phân phối</th>\n",
       "      <th>Kích thước màn hình</th>\n",
       "      <th>Công nghệ màn hình</th>\n",
       "      <th>Camera sau</th>\n",
       "      <th>Camera trước</th>\n",
       "      <th>Chipset</th>\n",
       "      <th>Dung lượng RAM</th>\n",
       "      <th>Bộ nhớ trong</th>\n",
       "      <th>Dung lượng pin</th>\n",
       "      <th>Số khe SIM</th>\n",
       "      <th>Hệ điều hành</th>\n",
       "      <th>Độ phân giải</th>\n",
       "      <th>Link</th>\n",
       "    </tr>\n",
       "  </thead>\n",
       "  <tbody>\n",
       "    <tr>\n",
       "      <th>0</th>\n",
       "      <td>0</td>\n",
       "      <td>Honor X9B 5G 12GB-256GB</td>\n",
       "      <td>Honor</td>\n",
       "      <td>8.990.000₫</td>\n",
       "      <td>FPT</td>\n",
       "      <td>6.78 inch</td>\n",
       "      <td>AMOLED</td>\n",
       "      <td>{'Resolution': '2.0 MP', 'Aperture': 'ƒ/2.4', ...</td>\n",
       "      <td>{'Resolution': '16.0 MP', 'Aperture': 'ƒ/2.45'...</td>\n",
       "      <td>Snapdragon 6 Gen 1</td>\n",
       "      <td>12 GB</td>\n",
       "      <td>256 GB</td>\n",
       "      <td>5800</td>\n",
       "      <td>2.0</td>\n",
       "      <td>Android 13.0</td>\n",
       "      <td>1200 x 2652 Pixels</td>\n",
       "      <td>https://fptshop.com.vn/dien-thoai/honor-x9b</td>\n",
       "    </tr>\n",
       "    <tr>\n",
       "      <th>1</th>\n",
       "      <td>1</td>\n",
       "      <td>Xiaomi Poco M6 Pro 8GB-256GB</td>\n",
       "      <td>Xiaomi</td>\n",
       "      <td>5.990.000₫</td>\n",
       "      <td>FPT</td>\n",
       "      <td>6.67 inch</td>\n",
       "      <td>FHD+</td>\n",
       "      <td>{'Resolution': '2.0 MP', 'Tính năng': 'Chống r...</td>\n",
       "      <td>{'Resolution': '16.0 MP'}</td>\n",
       "      <td>MediaTek Helio G99-Ultra</td>\n",
       "      <td>8 GB</td>\n",
       "      <td>256 GB</td>\n",
       "      <td>5000</td>\n",
       "      <td>2.0</td>\n",
       "      <td>Android 13.0</td>\n",
       "      <td>1080 x 2400 Pixels</td>\n",
       "      <td>https://fptshop.com.vn/dien-thoai/xiaomi-poco-...</td>\n",
       "    </tr>\n",
       "    <tr>\n",
       "      <th>2</th>\n",
       "      <td>2</td>\n",
       "      <td>Realme C51 6GB-256GB</td>\n",
       "      <td>Realme</td>\n",
       "      <td>3.990.000₫</td>\n",
       "      <td>FPT</td>\n",
       "      <td>6.74 inch</td>\n",
       "      <td>HD</td>\n",
       "      <td>{'Resolution': '2.0 MP', 'Aperture': 'ƒ/2.4', ...</td>\n",
       "      <td>{'Resolution': '5.0 MP', 'Aperture': 'ƒ/2.2', ...</td>\n",
       "      <td>Unisoc T612</td>\n",
       "      <td>6 GB</td>\n",
       "      <td>256 GB</td>\n",
       "      <td>5000</td>\n",
       "      <td>NaN</td>\n",
       "      <td>Android 13.0</td>\n",
       "      <td>720 x 1600 Pixels</td>\n",
       "      <td>https://fptshop.com.vn/dien-thoai/realme-c51?d...</td>\n",
       "    </tr>\n",
       "  </tbody>\n",
       "</table>\n",
       "</div>"
      ],
      "text/plain": [
       "   Unnamed: 0                Tên điện thoại    Hãng    Giá tiền Nhà phân phối   \n",
       "0           0       Honor X9B 5G 12GB-256GB   Honor  8.990.000₫           FPT  \\\n",
       "1           1  Xiaomi Poco M6 Pro 8GB-256GB  Xiaomi  5.990.000₫           FPT   \n",
       "2           2          Realme C51 6GB-256GB  Realme  3.990.000₫           FPT   \n",
       "\n",
       "  Kích thước màn hình Công nghệ màn hình   \n",
       "0           6.78 inch             AMOLED  \\\n",
       "1           6.67 inch               FHD+   \n",
       "2           6.74 inch                 HD   \n",
       "\n",
       "                                          Camera sau   \n",
       "0  {'Resolution': '2.0 MP', 'Aperture': 'ƒ/2.4', ...  \\\n",
       "1  {'Resolution': '2.0 MP', 'Tính năng': 'Chống r...   \n",
       "2  {'Resolution': '2.0 MP', 'Aperture': 'ƒ/2.4', ...   \n",
       "\n",
       "                                        Camera trước   \n",
       "0  {'Resolution': '16.0 MP', 'Aperture': 'ƒ/2.45'...  \\\n",
       "1                          {'Resolution': '16.0 MP'}   \n",
       "2  {'Resolution': '5.0 MP', 'Aperture': 'ƒ/2.2', ...   \n",
       "\n",
       "                    Chipset Dung lượng RAM Bộ nhớ trong Dung lượng pin   \n",
       "0        Snapdragon 6 Gen 1          12 GB       256 GB           5800  \\\n",
       "1  MediaTek Helio G99-Ultra           8 GB       256 GB           5000   \n",
       "2               Unisoc T612           6 GB       256 GB           5000   \n",
       "\n",
       "  Số khe SIM  Hệ điều hành        Độ phân giải   \n",
       "0        2.0  Android 13.0  1200 x 2652 Pixels  \\\n",
       "1        2.0  Android 13.0  1080 x 2400 Pixels   \n",
       "2        NaN  Android 13.0   720 x 1600 Pixels   \n",
       "\n",
       "                                                Link  \n",
       "0        https://fptshop.com.vn/dien-thoai/honor-x9b  \n",
       "1  https://fptshop.com.vn/dien-thoai/xiaomi-poco-...  \n",
       "2  https://fptshop.com.vn/dien-thoai/realme-c51?d...  "
      ]
     },
     "execution_count": 612,
     "metadata": {},
     "output_type": "execute_result"
    }
   ],
   "source": [
    "df = pd.read_csv('data/data_full.csv')\n",
    "df.head(n=3)"
   ]
  },
  {
   "cell_type": "code",
   "execution_count": 613,
   "metadata": {},
   "outputs": [
    {
     "name": "stdout",
     "output_type": "stream",
     "text": [
      "['Tên điện thoại' 'Hãng' 'Giá tiền' 'Nhà phân phối' 'Kích thước màn hình'\n",
      " 'Công nghệ màn hình' 'Camera sau' 'Camera trước' 'Chipset'\n",
      " 'Dung lượng RAM' 'Bộ nhớ trong' 'Dung lượng pin' 'Số khe SIM'\n",
      " 'Hệ điều hành' 'Độ phân giải' 'Link']\n"
     ]
    }
   ],
   "source": [
    "df = df.drop(columns=['Unnamed: 0'])\n",
    "print(df.columns.values)"
   ]
  },
  {
   "cell_type": "code",
   "execution_count": 614,
   "metadata": {},
   "outputs": [],
   "source": [
    "df.drop_duplicates(inplace=True)"
   ]
  },
  {
   "cell_type": "markdown",
   "metadata": {},
   "source": [
    "##### Xử lý cột \"Số khe sim\": Điện thoại được bán hiện tại đều có 2 sim vật lý, riêng iPhone thì chỉ có 1 sim vật lý. Do đó, ta sẽ thay thế những điện thoại iPhone là 1, còn lại là 2."
   ]
  },
  {
   "cell_type": "code",
   "execution_count": 615,
   "metadata": {},
   "outputs": [
    {
     "data": {
      "text/plain": [
       "Tên điện thoại         object\n",
       "Hãng                   object\n",
       "Giá tiền               object\n",
       "Nhà phân phối          object\n",
       "Kích thước màn hình    object\n",
       "Công nghệ màn hình     object\n",
       "Camera sau             object\n",
       "Camera trước           object\n",
       "Chipset                object\n",
       "Dung lượng RAM         object\n",
       "Bộ nhớ trong           object\n",
       "Dung lượng pin         object\n",
       "Số khe SIM             object\n",
       "Hệ điều hành           object\n",
       "Độ phân giải           object\n",
       "Link                   object\n",
       "dtype: object"
      ]
     },
     "execution_count": 615,
     "metadata": {},
     "output_type": "execute_result"
    }
   ],
   "source": [
    "df.dtypes"
   ]
  },
  {
   "cell_type": "code",
   "execution_count": 616,
   "metadata": {},
   "outputs": [
    {
     "data": {
      "text/plain": [
       "Tên điện thoại           0\n",
       "Hãng                     5\n",
       "Giá tiền                 8\n",
       "Nhà phân phối            0\n",
       "Kích thước màn hình     65\n",
       "Công nghệ màn hình      70\n",
       "Camera sau              72\n",
       "Camera trước           107\n",
       "Chipset                 53\n",
       "Dung lượng RAM          54\n",
       "Bộ nhớ trong            45\n",
       "Dung lượng pin          48\n",
       "Số khe SIM             137\n",
       "Hệ điều hành           136\n",
       "Độ phân giải           116\n",
       "Link                     0\n",
       "dtype: int64"
      ]
     },
     "execution_count": 616,
     "metadata": {},
     "output_type": "execute_result"
    }
   ],
   "source": [
    "df.isnull().sum()"
   ]
  },
  {
   "cell_type": "markdown",
   "metadata": {},
   "source": [
    "##### Xử lý cột \"Hãng\": lấy từ đầu tiên của mỗi hãng và gắn vào cột \"Hãng\"."
   ]
  },
  {
   "cell_type": "code",
   "execution_count": 617,
   "metadata": {},
   "outputs": [
    {
     "data": {
      "text/plain": [
       "Hãng\n",
       "Samsung      133\n",
       "Xiaomi       109\n",
       "OPPO          94\n",
       "iPhone        83\n",
       "Vivo          55\n",
       "realme        48\n",
       "Nokia         36\n",
       "TECNO         29\n",
       "Honor         28\n",
       "Masstel       28\n",
       "vivo          24\n",
       "Redmi         24\n",
       "Infinix       19\n",
       "Realme        19\n",
       "TCL           15\n",
       "Huawei        15\n",
       "Google        13\n",
       "OnePlus       11\n",
       "Itel          10\n",
       "ZTE           10\n",
       "Nubia          9\n",
       "ASUS           7\n",
       "Motorola       7\n",
       "HONOR          6\n",
       "INOI           6\n",
       "Mobell         6\n",
       "Oneplus        4\n",
       "Oppo           4\n",
       "POCO           4\n",
       "Asus           3\n",
       "Xperia         3\n",
       "XOR            3\n",
       "Nothing        2\n",
       "Blackview      2\n",
       "Tecno          2\n",
       "ViVo           2\n",
       "Lenovo         2\n",
       "Black          2\n",
       "Doogee         2\n",
       "Meizu          2\n",
       "Sony           2\n",
       "ITEL           1\n",
       "NUBIA          1\n",
       "Izi            1\n",
       "HTC            1\n",
       "Philips        1\n",
       "huawei         1\n",
       "Moto           1\n",
       "masstel        1\n",
       "ROG            1\n",
       "Xiaomii        1\n",
       "Leitz          1\n",
       "Sharp          1\n",
       "ZenFone        1\n",
       "Name: count, dtype: int64"
      ]
     },
     "execution_count": 617,
     "metadata": {},
     "output_type": "execute_result"
    }
   ],
   "source": [
    "df['Tên điện thoại'] = df['Tên điện thoại'].str.replace('Điện thoại', '')\\\n",
    "                                            .str.replace(' di động ', '')\\\n",
    "                                            .str.replace(' di dộng ', '')\\\n",
    "\n",
    "df['Hãng'] = df['Tên điện thoại'].str.split().str[0]\n",
    "df['Hãng'].value_counts()"
   ]
  },
  {
   "cell_type": "markdown",
   "metadata": {},
   "source": [
    "##### Xử lý cột \"Số khe sim\": thay thế những điện thoại iPhone là 1, còn lại là 2."
   ]
  },
  {
   "cell_type": "code",
   "execution_count": 618,
   "metadata": {},
   "outputs": [],
   "source": [
    "df.loc[df['Tên điện thoại'].str.contains('iPhone'), 'Số khe SIM'] = 1\n",
    "df.loc[~df['Tên điện thoại'].str.contains('iPhone'), 'Số khe SIM'] = 2"
   ]
  },
  {
   "cell_type": "markdown",
   "metadata": {},
   "source": [
    "##### Xử lý cột \"Giá tiền\": biến đổi về dạng số nguyên, loại bỏ dấu chấm và dấu phẩy."
   ]
  },
  {
   "cell_type": "code",
   "execution_count": 619,
   "metadata": {},
   "outputs": [],
   "source": [
    "df['Giá tiền'] = df['Giá tiền'].str.replace('Giá Liên Hệ', '0')\\\n",
    "    .str.replace('Giá: Liên hệ', '0')\\\n",
    "    .str.replace('từ                    ', '')\\\n",
    "    .str.replace('đ', '')\\\n",
    "    .str.replace('₫', '')\\\n",
    "    .str.replace(' ', '')\\\n",
    "    .str.replace('*', '')\\\n",
    "    .str.replace(',', '')\\\n",
    "    .str.replace('.', '').astype('Int64')"
   ]
  },
  {
   "cell_type": "markdown",
   "metadata": {},
   "source": [
    "##### Xử lý cột \"Nhà phân phối\": gọn tên hơn thay vì phải viết dài"
   ]
  },
  {
   "cell_type": "code",
   "execution_count": 620,
   "metadata": {},
   "outputs": [],
   "source": [
    "df['Nhà phân phối'] = df['Nhà phân phối'].str.replace('Hoàng Hà Mobile', 'HH_Mobile')"
   ]
  },
  {
   "cell_type": "markdown",
   "metadata": {},
   "source": [
    "##### Xử lý cột \"Kích thước màn hình\": biến đổi về dạng float"
   ]
  },
  {
   "cell_type": "code",
   "execution_count": 621,
   "metadata": {},
   "outputs": [],
   "source": [
    "df['Kích thước màn hình'] = df['Kích thước màn hình'].str.extract(r'(\\d+\\.\\d+)').astype('float')"
   ]
  },
  {
   "cell_type": "markdown",
   "metadata": {},
   "source": [
    "##### Xử lý cột \"Công nghệ màn hình\": gom nhóm các màn có công nghệ giống nhau, gọn tên hơn thay vì phải viết dài"
   ]
  },
  {
   "cell_type": "code",
   "execution_count": 622,
   "metadata": {},
   "outputs": [],
   "source": [
    "df.dropna(subset=['Công nghệ màn hình'], inplace=True)"
   ]
  },
  {
   "cell_type": "code",
   "execution_count": 623,
   "metadata": {},
   "outputs": [
    {
     "data": {
      "text/plain": [
       "Công nghệ màn hình\n",
       "AMOLED                            319\n",
       "LCD                               274\n",
       "OLED                               93\n",
       "RETINA                             51\n",
       "FHD+                               34\n",
       "HD                                 21\n",
       "QVGA                               18\n",
       "Kính màn hình: Sapphire             3\n",
       "Tần số quét 90Hz                    3\n",
       "Đang cập nhật                       2\n",
       "IPS                                 2\n",
       "QXGA                                1\n",
       "2K+                                 1\n",
       "1.5K                                1\n",
       "TFT, 256K colors                    1\n",
       "TN                                  1\n",
       "Tần số 90Hz\\nĐục lỗ (Nốt ruồi)      1\n",
       "Name: count, dtype: int64"
      ]
     },
     "execution_count": 623,
     "metadata": {},
     "output_type": "execute_result"
    }
   ],
   "source": [
    "screen_technology = ['AMOLED', 'Amoled', 'LCD', 'Retina', 'FHD+', 'OLED', 'HD', 'QVGA']\n",
    "\n",
    "def check_word_existence(row, word_list):\n",
    "    for word in word_list:\n",
    "        if word in row:\n",
    "            return word\n",
    "    return\n",
    "\n",
    "for index, row in df.iterrows():\n",
    "    screen_tech = check_word_existence(row['Công nghệ màn hình'], screen_technology)\n",
    "    if screen_tech:\n",
    "        df.loc[index, 'Công nghệ màn hình'] = screen_tech.upper()\n",
    "        \n",
    "df['Công nghệ màn hình'].value_counts()"
   ]
  },
  {
   "cell_type": "markdown",
   "metadata": {},
   "source": [
    "##### Xử lý cột \"Dung lượng RAM\", đưa về dạng số nguyên"
   ]
  },
  {
   "cell_type": "code",
   "execution_count": 624,
   "metadata": {},
   "outputs": [],
   "source": [
    "df['Dung lượng RAM'] = df['Dung lượng RAM'].str.extract(r'(\\d+)').astype('Int64')"
   ]
  },
  {
   "cell_type": "markdown",
   "metadata": {},
   "source": [
    "##### Xử lý cột 'Bộ nhớ trong': Đưa về tiêu chuẩn GB, nếu có TB thì chuyển về GB"
   ]
  },
  {
   "cell_type": "code",
   "execution_count": 625,
   "metadata": {},
   "outputs": [
    {
     "data": {
      "text/plain": [
       "Bộ nhớ trong\n",
       "128.000000     313\n",
       "256.000000     271\n",
       "64.000000       84\n",
       "512.000000      47\n",
       "0.125000        45\n",
       "32.000000       31\n",
       "1024.000000      9\n",
       "0.023438         3\n",
       "0.250000         2\n",
       "16.000000        2\n",
       "0.000000         1\n",
       "Name: count, dtype: int64"
      ]
     },
     "execution_count": 625,
     "metadata": {},
     "output_type": "execute_result"
    }
   ],
   "source": [
    "# df.dropna(subset=['Dung lượng RAM'], inplace=True)\n",
    "# df['Dung lượng RAM'] = df['Dung lượng RAM'].str.extract(r'(\\d+)').astype(int)\n",
    "df['Bộ nhớ trong'] = df['Bộ nhớ trong'].str.replace('ROM 128MB\\nDanh bạ lưu được 2000 số', '128MB')\\\n",
    "                                        .str.replace('128GB\\nLoại ROM: eMMC 5.1', '128GB')\\\n",
    "                                        .str.replace('256GB, UFS 2.2', '256GB')\\\n",
    "                                        .str.replace('Không', '0')\n",
    "                                        \n",
    "def remove_unit(value):\n",
    "    if isinstance(value, str):\n",
    "        if 'GB' in value:\n",
    "            return value.replace('GB', '')\n",
    "        elif 'MB' in value:\n",
    "            return str(float(value.replace('MB', '')) / 1024)\n",
    "        elif 'TB' in value:\n",
    "            return str(float(value.replace('TB', '')) * 1024)\n",
    "    return value\n",
    "\n",
    "df['Bộ nhớ trong'] = df['Bộ nhớ trong'].apply(remove_unit).astype('float')\n",
    "df['Bộ nhớ trong'].value_counts()"
   ]
  },
  {
   "cell_type": "markdown",
   "metadata": {},
   "source": [
    "##### Xử lý cột \"Dung lượng pin\": đưa về dạng số nguyên"
   ]
  },
  {
   "cell_type": "code",
   "execution_count": 626,
   "metadata": {},
   "outputs": [],
   "source": [
    "df['Dung lượng pin'] = df['Dung lượng pin'].str.replace(',', '')\\\n",
    "                                            .str.replace('.', '')\n",
    "                                            \n",
    "df['Dung lượng pin'] = df['Dung lượng pin'].str.extract(r'(\\d+)').astype('Int64')"
   ]
  },
  {
   "cell_type": "code",
   "execution_count": 627,
   "metadata": {},
   "outputs": [
    {
     "data": {
      "text/html": [
       "<div>\n",
       "<style scoped>\n",
       "    .dataframe tbody tr th:only-of-type {\n",
       "        vertical-align: middle;\n",
       "    }\n",
       "\n",
       "    .dataframe tbody tr th {\n",
       "        vertical-align: top;\n",
       "    }\n",
       "\n",
       "    .dataframe thead th {\n",
       "        text-align: right;\n",
       "    }\n",
       "</style>\n",
       "<table border=\"1\" class=\"dataframe\">\n",
       "  <thead>\n",
       "    <tr style=\"text-align: right;\">\n",
       "      <th></th>\n",
       "      <th>Tên điện thoại</th>\n",
       "      <th>Hãng</th>\n",
       "      <th>Giá tiền</th>\n",
       "      <th>Nhà phân phối</th>\n",
       "      <th>Kích thước màn hình</th>\n",
       "      <th>Công nghệ màn hình</th>\n",
       "      <th>Camera sau</th>\n",
       "      <th>Camera trước</th>\n",
       "      <th>Chipset</th>\n",
       "      <th>Dung lượng RAM</th>\n",
       "      <th>Bộ nhớ trong</th>\n",
       "      <th>Dung lượng pin</th>\n",
       "      <th>Số khe SIM</th>\n",
       "      <th>Hệ điều hành</th>\n",
       "      <th>Độ phân giải</th>\n",
       "      <th>Link</th>\n",
       "    </tr>\n",
       "  </thead>\n",
       "  <tbody>\n",
       "    <tr>\n",
       "      <th>5</th>\n",
       "      <td>iPhone 15 Pro Max 256GB</td>\n",
       "      <td>iPhone</td>\n",
       "      <td>30990000</td>\n",
       "      <td>FPT</td>\n",
       "      <td>6.7</td>\n",
       "      <td>RETINA</td>\n",
       "      <td>{'Resolution': '12.0 MP', 'Quay phim': '4K 216...</td>\n",
       "      <td>{'Resolution': '12.0 MP', 'Quay phim': 'Quay p...</td>\n",
       "      <td>Apple A17 Pro</td>\n",
       "      <td>8</td>\n",
       "      <td>256.0</td>\n",
       "      <td>29</td>\n",
       "      <td>1</td>\n",
       "      <td>iOS 17</td>\n",
       "      <td>2796 x 1290 Pixels</td>\n",
       "      <td>https://fptshop.com.vn/dien-thoai/iphone-15-pr...</td>\n",
       "    </tr>\n",
       "    <tr>\n",
       "      <th>49</th>\n",
       "      <td>iPhone 15 Pro 128GB</td>\n",
       "      <td>iPhone</td>\n",
       "      <td>26490000</td>\n",
       "      <td>FPT</td>\n",
       "      <td>6.1</td>\n",
       "      <td>RETINA</td>\n",
       "      <td>{'Resolution': '12.0 MP', 'Quay phim': '4K 216...</td>\n",
       "      <td>{'Resolution': '12.0 MP', 'Quay phim': 'Quay p...</td>\n",
       "      <td>Apple A17 Pro</td>\n",
       "      <td>8</td>\n",
       "      <td>128.0</td>\n",
       "      <td>23</td>\n",
       "      <td>1</td>\n",
       "      <td>iOS 17</td>\n",
       "      <td>2556 x 1179 Pixels</td>\n",
       "      <td>https://fptshop.com.vn/dien-thoai/iphone-15-pr...</td>\n",
       "    </tr>\n",
       "    <tr>\n",
       "      <th>51</th>\n",
       "      <td>iPhone 15 Plus 128GB</td>\n",
       "      <td>iPhone</td>\n",
       "      <td>23190000</td>\n",
       "      <td>FPT</td>\n",
       "      <td>6.7</td>\n",
       "      <td>RETINA</td>\n",
       "      <td>{'Resolution': '12.0 MP', 'Quay phim': '4K 216...</td>\n",
       "      <td>{'Resolution': '12.0 MP', 'Quay phim': 'Quay p...</td>\n",
       "      <td>Apple A16 Bionic</td>\n",
       "      <td>6</td>\n",
       "      <td>128.0</td>\n",
       "      <td>26</td>\n",
       "      <td>1</td>\n",
       "      <td>iOS 17</td>\n",
       "      <td>2796 x 1290 Pixels</td>\n",
       "      <td>https://fptshop.com.vn/dien-thoai/iphone-15-pl...</td>\n",
       "    </tr>\n",
       "    <tr>\n",
       "      <th>54</th>\n",
       "      <td>iPhone 15 128GB</td>\n",
       "      <td>iPhone</td>\n",
       "      <td>20190000</td>\n",
       "      <td>FPT</td>\n",
       "      <td>6.1</td>\n",
       "      <td>RETINA</td>\n",
       "      <td>{'Resolution': '12.0 MP', 'Quay phim': '4K 216...</td>\n",
       "      <td>{'Resolution': '12.0 MP', 'Quay phim': 'Quay p...</td>\n",
       "      <td>Apple A16 Bionic</td>\n",
       "      <td>6</td>\n",
       "      <td>128.0</td>\n",
       "      <td>20</td>\n",
       "      <td>1</td>\n",
       "      <td>iOS 17</td>\n",
       "      <td>2556 x 1179 Pixels</td>\n",
       "      <td>https://fptshop.com.vn/dien-thoai/iphone-15?du...</td>\n",
       "    </tr>\n",
       "    <tr>\n",
       "      <th>145</th>\n",
       "      <td>iPhone 12 128GB | Chính hãng VN/A</td>\n",
       "      <td>iPhone</td>\n",
       "      <td>13790000</td>\n",
       "      <td>Cellphones</td>\n",
       "      <td>6.1</td>\n",
       "      <td>OLED</td>\n",
       "      <td>12 MP, f/1.6, 26mm (wide), 1.4µm, dual pixel P...</td>\n",
       "      <td>12 MP, f/2.2, 23mm (wide), 1/3.6\"SL 3D, (depth...</td>\n",
       "      <td>Apple A14 Bionic (5 nm)</td>\n",
       "      <td>4</td>\n",
       "      <td>128.0</td>\n",
       "      <td>20</td>\n",
       "      <td>1</td>\n",
       "      <td>iOS 14.1 hoặc cao hơn (Tùy vào phiên bản phát ...</td>\n",
       "      <td>1170 x 2532 pixels</td>\n",
       "      <td>https://cellphones.com.vn/iphone-12-128gb.html</td>\n",
       "    </tr>\n",
       "    <tr>\n",
       "      <th>155</th>\n",
       "      <td>iPhone 12 64GB | Chính hãng VN/A</td>\n",
       "      <td>iPhone</td>\n",
       "      <td>12390000</td>\n",
       "      <td>Cellphones</td>\n",
       "      <td>6.1</td>\n",
       "      <td>OLED</td>\n",
       "      <td>12 MP, f/1.6, 26mm (wide), 1.4µm, dual pixel P...</td>\n",
       "      <td>12 MP, f/2.2, 23mm (wide), 1/3.6\"SL 3D, (depth...</td>\n",
       "      <td>Apple A14 Bionic (5 nm)</td>\n",
       "      <td>4</td>\n",
       "      <td>64.0</td>\n",
       "      <td>20</td>\n",
       "      <td>1</td>\n",
       "      <td>iOS 14.1 hoặc cao hơn (Tùy vào phiên bản phát ...</td>\n",
       "      <td>1170 x 2532 pixels</td>\n",
       "      <td>https://cellphones.com.vn/iphone-12.html</td>\n",
       "    </tr>\n",
       "    <tr>\n",
       "      <th>249</th>\n",
       "      <td>iPhone 12 Pro Max 128GB I Chính hãng VN/A</td>\n",
       "      <td>iPhone</td>\n",
       "      <td>23490000</td>\n",
       "      <td>Cellphones</td>\n",
       "      <td>6.7</td>\n",
       "      <td>OLED</td>\n",
       "      <td>Camera chính: 12 MP, f/1.6, 26mm, 1.4µm, dual ...</td>\n",
       "      <td>12 MP, f/2.2, 23mm (wide), 1/3.6\"SL 3D, (depth...</td>\n",
       "      <td>Apple A14 Bionic (5 nm)</td>\n",
       "      <td>6</td>\n",
       "      <td>128.0</td>\n",
       "      <td>20</td>\n",
       "      <td>1</td>\n",
       "      <td>iOS 14.1 hoặc cao hơn (Tùy vào phiên bản phát ...</td>\n",
       "      <td>1284 x 2778 pixels</td>\n",
       "      <td>https://cellphones.com.vn/iphone-12-pro-max.html</td>\n",
       "    </tr>\n",
       "    <tr>\n",
       "      <th>255</th>\n",
       "      <td>iPhone 12 mini 64GB I Chính hãng VN/A</td>\n",
       "      <td>iPhone</td>\n",
       "      <td>12990000</td>\n",
       "      <td>Cellphones</td>\n",
       "      <td>5.4</td>\n",
       "      <td>OLED</td>\n",
       "      <td>12 MP, f/1.6, 26mm (wide), 1.4µm, dual pixel P...</td>\n",
       "      <td>12 MP, f/2.2, 23mm (wide), 1/3.6\"SL 3D, (depth...</td>\n",
       "      <td>Apple A14 Bionic (5 nm)</td>\n",
       "      <td>4</td>\n",
       "      <td>64.0</td>\n",
       "      <td>20</td>\n",
       "      <td>1</td>\n",
       "      <td>iOS 14.1 hoặc cao hơn (Tùy vào phiên bản phát ...</td>\n",
       "      <td>1080 x 2340 pixels (FullHD+)</td>\n",
       "      <td>https://cellphones.com.vn/iphone-12-mini.html</td>\n",
       "    </tr>\n",
       "    <tr>\n",
       "      <th>267</th>\n",
       "      <td>iPhone 12 Pro 128GB I Chính hãng VN/A</td>\n",
       "      <td>iPhone</td>\n",
       "      <td>24990000</td>\n",
       "      <td>Cellphones</td>\n",
       "      <td>6.1</td>\n",
       "      <td>OLED</td>\n",
       "      <td>12 MP, f/1.6, 26mm (wide), 1.4µm, dual pixel P...</td>\n",
       "      <td>12 MP, f/2.2, 23mm (wide), 1/3.6\"SL 3D, (depth...</td>\n",
       "      <td>Apple A14 Bionic (5 nm)</td>\n",
       "      <td>6</td>\n",
       "      <td>128.0</td>\n",
       "      <td>20</td>\n",
       "      <td>1</td>\n",
       "      <td>iOS 14.1 hoặc cao hơn (Tùy vào phiên bản phát ...</td>\n",
       "      <td>1170 x 2532 pixels</td>\n",
       "      <td>https://cellphones.com.vn/iphone-12-pro.html</td>\n",
       "    </tr>\n",
       "    <tr>\n",
       "      <th>318</th>\n",
       "      <td>iPhone 12 Pro Max 256GB I Chính hãng VN/A</td>\n",
       "      <td>iPhone</td>\n",
       "      <td>27590000</td>\n",
       "      <td>Cellphones</td>\n",
       "      <td>6.7</td>\n",
       "      <td>OLED</td>\n",
       "      <td>12 MP, f/1.6, 26mm (wide), 1.4µm, dual pixel P...</td>\n",
       "      <td>12 MP, f/2.2, 23mm (wide), 1/3.6\"SL 3D, (depth...</td>\n",
       "      <td>Apple A14 Bionic (5 nm)</td>\n",
       "      <td>6</td>\n",
       "      <td>256.0</td>\n",
       "      <td>18</td>\n",
       "      <td>1</td>\n",
       "      <td>iOS 14.1 hoặc cao hơn (Tùy vào phiên bản phát ...</td>\n",
       "      <td>1284 x 2778 pixels</td>\n",
       "      <td>https://cellphones.com.vn/iphone-12-pro-max-25...</td>\n",
       "    </tr>\n",
       "    <tr>\n",
       "      <th>346</th>\n",
       "      <td>iPhone 12 Pro 256GB | Chính hãng VN/A</td>\n",
       "      <td>iPhone</td>\n",
       "      <td>24990000</td>\n",
       "      <td>Cellphones</td>\n",
       "      <td>6.1</td>\n",
       "      <td>OLED</td>\n",
       "      <td>12 MP, f/1.6, 26mm (wide), 1.4µm, dual pixel P...</td>\n",
       "      <td>12 MP, f/2.2, 23mm (wide), 1/3.6\"SL 3D, (depth...</td>\n",
       "      <td>Apple A14 Bionic (5 nm)</td>\n",
       "      <td>6</td>\n",
       "      <td>256.0</td>\n",
       "      <td>20</td>\n",
       "      <td>1</td>\n",
       "      <td>iOS 14.1 hoặc cao hơn (Tùy vào phiên bản phát ...</td>\n",
       "      <td>1170 x 2532 pixels</td>\n",
       "      <td>https://cellphones.com.vn/iphone-12-pro-256gb....</td>\n",
       "    </tr>\n",
       "  </tbody>\n",
       "</table>\n",
       "</div>"
      ],
      "text/plain": [
       "                                 Tên điện thoại    Hãng  Giá tiền   \n",
       "5                       iPhone 15 Pro Max 256GB  iPhone  30990000  \\\n",
       "49                          iPhone 15 Pro 128GB  iPhone  26490000   \n",
       "51                         iPhone 15 Plus 128GB  iPhone  23190000   \n",
       "54                              iPhone 15 128GB  iPhone  20190000   \n",
       "145          iPhone 12 128GB | Chính hãng VN/A   iPhone  13790000   \n",
       "155           iPhone 12 64GB | Chính hãng VN/A   iPhone  12390000   \n",
       "249  iPhone 12 Pro Max 128GB I Chính hãng VN/A   iPhone  23490000   \n",
       "255      iPhone 12 mini 64GB I Chính hãng VN/A   iPhone  12990000   \n",
       "267      iPhone 12 Pro 128GB I Chính hãng VN/A   iPhone  24990000   \n",
       "318  iPhone 12 Pro Max 256GB I Chính hãng VN/A   iPhone  27590000   \n",
       "346      iPhone 12 Pro 256GB | Chính hãng VN/A   iPhone  24990000   \n",
       "\n",
       "    Nhà phân phối  Kích thước màn hình Công nghệ màn hình   \n",
       "5             FPT                  6.7             RETINA  \\\n",
       "49            FPT                  6.1             RETINA   \n",
       "51            FPT                  6.7             RETINA   \n",
       "54            FPT                  6.1             RETINA   \n",
       "145    Cellphones                  6.1               OLED   \n",
       "155    Cellphones                  6.1               OLED   \n",
       "249    Cellphones                  6.7               OLED   \n",
       "255    Cellphones                  5.4               OLED   \n",
       "267    Cellphones                  6.1               OLED   \n",
       "318    Cellphones                  6.7               OLED   \n",
       "346    Cellphones                  6.1               OLED   \n",
       "\n",
       "                                            Camera sau   \n",
       "5    {'Resolution': '12.0 MP', 'Quay phim': '4K 216...  \\\n",
       "49   {'Resolution': '12.0 MP', 'Quay phim': '4K 216...   \n",
       "51   {'Resolution': '12.0 MP', 'Quay phim': '4K 216...   \n",
       "54   {'Resolution': '12.0 MP', 'Quay phim': '4K 216...   \n",
       "145  12 MP, f/1.6, 26mm (wide), 1.4µm, dual pixel P...   \n",
       "155  12 MP, f/1.6, 26mm (wide), 1.4µm, dual pixel P...   \n",
       "249  Camera chính: 12 MP, f/1.6, 26mm, 1.4µm, dual ...   \n",
       "255  12 MP, f/1.6, 26mm (wide), 1.4µm, dual pixel P...   \n",
       "267  12 MP, f/1.6, 26mm (wide), 1.4µm, dual pixel P...   \n",
       "318  12 MP, f/1.6, 26mm (wide), 1.4µm, dual pixel P...   \n",
       "346  12 MP, f/1.6, 26mm (wide), 1.4µm, dual pixel P...   \n",
       "\n",
       "                                          Camera trước   \n",
       "5    {'Resolution': '12.0 MP', 'Quay phim': 'Quay p...  \\\n",
       "49   {'Resolution': '12.0 MP', 'Quay phim': 'Quay p...   \n",
       "51   {'Resolution': '12.0 MP', 'Quay phim': 'Quay p...   \n",
       "54   {'Resolution': '12.0 MP', 'Quay phim': 'Quay p...   \n",
       "145  12 MP, f/2.2, 23mm (wide), 1/3.6\"SL 3D, (depth...   \n",
       "155  12 MP, f/2.2, 23mm (wide), 1/3.6\"SL 3D, (depth...   \n",
       "249  12 MP, f/2.2, 23mm (wide), 1/3.6\"SL 3D, (depth...   \n",
       "255  12 MP, f/2.2, 23mm (wide), 1/3.6\"SL 3D, (depth...   \n",
       "267  12 MP, f/2.2, 23mm (wide), 1/3.6\"SL 3D, (depth...   \n",
       "318  12 MP, f/2.2, 23mm (wide), 1/3.6\"SL 3D, (depth...   \n",
       "346  12 MP, f/2.2, 23mm (wide), 1/3.6\"SL 3D, (depth...   \n",
       "\n",
       "                     Chipset  Dung lượng RAM  Bộ nhớ trong  Dung lượng pin   \n",
       "5              Apple A17 Pro               8         256.0              29  \\\n",
       "49             Apple A17 Pro               8         128.0              23   \n",
       "51          Apple A16 Bionic               6         128.0              26   \n",
       "54          Apple A16 Bionic               6         128.0              20   \n",
       "145  Apple A14 Bionic (5 nm)               4         128.0              20   \n",
       "155  Apple A14 Bionic (5 nm)               4          64.0              20   \n",
       "249  Apple A14 Bionic (5 nm)               6         128.0              20   \n",
       "255  Apple A14 Bionic (5 nm)               4          64.0              20   \n",
       "267  Apple A14 Bionic (5 nm)               6         128.0              20   \n",
       "318  Apple A14 Bionic (5 nm)               6         256.0              18   \n",
       "346  Apple A14 Bionic (5 nm)               6         256.0              20   \n",
       "\n",
       "    Số khe SIM                                       Hệ điều hành   \n",
       "5            1                                             iOS 17  \\\n",
       "49           1                                             iOS 17   \n",
       "51           1                                             iOS 17   \n",
       "54           1                                             iOS 17   \n",
       "145          1  iOS 14.1 hoặc cao hơn (Tùy vào phiên bản phát ...   \n",
       "155          1  iOS 14.1 hoặc cao hơn (Tùy vào phiên bản phát ...   \n",
       "249          1  iOS 14.1 hoặc cao hơn (Tùy vào phiên bản phát ...   \n",
       "255          1  iOS 14.1 hoặc cao hơn (Tùy vào phiên bản phát ...   \n",
       "267          1  iOS 14.1 hoặc cao hơn (Tùy vào phiên bản phát ...   \n",
       "318          1  iOS 14.1 hoặc cao hơn (Tùy vào phiên bản phát ...   \n",
       "346          1  iOS 14.1 hoặc cao hơn (Tùy vào phiên bản phát ...   \n",
       "\n",
       "                     Độ phân giải   \n",
       "5              2796 x 1290 Pixels  \\\n",
       "49             2556 x 1179 Pixels   \n",
       "51             2796 x 1290 Pixels   \n",
       "54             2556 x 1179 Pixels   \n",
       "145            1170 x 2532 pixels   \n",
       "155            1170 x 2532 pixels   \n",
       "249            1284 x 2778 pixels   \n",
       "255  1080 x 2340 pixels (FullHD+)   \n",
       "267            1170 x 2532 pixels   \n",
       "318            1284 x 2778 pixels   \n",
       "346            1170 x 2532 pixels   \n",
       "\n",
       "                                                  Link  \n",
       "5    https://fptshop.com.vn/dien-thoai/iphone-15-pr...  \n",
       "49   https://fptshop.com.vn/dien-thoai/iphone-15-pr...  \n",
       "51   https://fptshop.com.vn/dien-thoai/iphone-15-pl...  \n",
       "54   https://fptshop.com.vn/dien-thoai/iphone-15?du...  \n",
       "145     https://cellphones.com.vn/iphone-12-128gb.html  \n",
       "155           https://cellphones.com.vn/iphone-12.html  \n",
       "249   https://cellphones.com.vn/iphone-12-pro-max.html  \n",
       "255      https://cellphones.com.vn/iphone-12-mini.html  \n",
       "267       https://cellphones.com.vn/iphone-12-pro.html  \n",
       "318  https://cellphones.com.vn/iphone-12-pro-max-25...  \n",
       "346  https://cellphones.com.vn/iphone-12-pro-256gb....  "
      ]
     },
     "execution_count": 627,
     "metadata": {},
     "output_type": "execute_result"
    }
   ],
   "source": [
    "df[df['Dung lượng pin'].isin([18, 20, 23, 26, 29])]"
   ]
  },
  {
   "cell_type": "markdown",
   "metadata": {},
   "source": [
    "Với iPhone, cần phải lên mạng coi để xác thực về dung lượng pin, do trong dữ liệu chỉ đề cập về khả năng sạc nhanh"
   ]
  },
  {
   "cell_type": "markdown",
   "metadata": {},
   "source": [
    "##### Xử lý cột \"Hệ điều hành\": gom nhóm các hệ điều hành giống nhau, gọn tên hơn thay vì phải viết dài"
   ]
  },
  {
   "cell_type": "code",
   "execution_count": 628,
   "metadata": {},
   "outputs": [
    {
     "data": {
      "text/plain": [
       "Hệ điều hành\n",
       "Android     712\n",
       "iOS          83\n",
       "Nokia OS     31\n",
       "Name: count, dtype: int64"
      ]
     },
     "execution_count": 628,
     "metadata": {},
     "output_type": "execute_result"
    }
   ],
   "source": [
    "df.loc[df['Hãng'] == 'iPhone', 'Hệ điều hành'] = 'iOS'\n",
    "df.loc[df['Hãng'] == 'Nokia', 'Hệ điều hành'] = 'Nokia OS'\n",
    "df.loc[~df['Hãng'].isin(['iPhone', 'Nokia']), 'Hệ điều hành'] = 'Android'\n",
    "\n",
    "df['Hệ điều hành'].value_counts()"
   ]
  },
  {
   "cell_type": "markdown",
   "metadata": {},
   "source": [
    "##### Xử lý cột \"Độ phân giải\": chỉ lấy phần n x n, không lấy các phần khác"
   ]
  },
  {
   "cell_type": "code",
   "execution_count": 629,
   "metadata": {},
   "outputs": [
    {
     "name": "stdout",
     "output_type": "stream",
     "text": [
      "1200x2652\n"
     ]
    },
    {
     "data": {
      "text/plain": [
       "array(['1200 x 2652', '1080 x 2400', '720 x 1600', '1080 x 2340',\n",
       "       '2796 x 1290', '3120 x 1440', '720 x 1612', '1080 x 2408',\n",
       "       '1080 x 2636', '720 x 1650', '120 x 160', '160 x 128',\n",
       "       '2176 x 1812', '2532 x 1170', '828 x 1792', '1080 x 2412',\n",
       "       '2388 x 1080', '2408 x 1080', '1080 x 2376', '320 x 240',\n",
       "       '2268 x 2440', '2556 x 1179', '1440 x 3088', '1080 x 2520',\n",
       "       '2778 x 1284', '2520 x 1080', '2712 x 1220', nan, '1080 x 2040',\n",
       "       '176 x 220', '1220 x 2712', '1792 x 828', '1080x2460',\n",
       "       '1080 x 2448', '1440 x 3120', '1080 x 2640', '1170 x 2532',\n",
       "       '1116 x 2480', '1440 x 3216', '1240 x 2772', '2460x1080',\n",
       "       '1080 x 2388', '240 x 320', '1612x720', '1600 x 720',\n",
       "       '1284 x 2778', '1334 x 750', '1200 x 2670', '1440 x 3200',\n",
       "       '1768 x 2208', '3200 x 1440', '2652 x 1200', '1312 x 2848',\n",
       "       '1080 x 2436', '792 x 1', '1920 x 1200', '3840 x 1644',\n",
       "       '720 x 1520', '1984 x 2272', '1080 x 2160', '3040 x 1440',\n",
       "       '1080 x 1920', '720 x 1440', '720 x 1640', '1440 x 3080',\n",
       "       '720 x 1280', '1440 x 2960', '1440 x 2880', '1224 x 2664',\n",
       "       '2412 x 1080', '1080 x 2256', '1536 x 2560', '1200 x 2000',\n",
       "       '800 x 1280', '1916 x 2160', '1080 x 2280', '128 x 160',\n",
       "       '1179 x 2556', '1290 x 2796', '720x1600', '2340 x 1080',\n",
       "       '1220x2712', '1080x2400', '720x1612', '1080x2412', '1080x2436',\n",
       "       '2640 x 1080', '2400 x 1080', '1080 x 2460', '1080x2408',\n",
       "       '128x160', '2400x1080', '2388x1080', '1260 x 2800'], dtype=object)"
      ]
     },
     "execution_count": 629,
     "metadata": {},
     "output_type": "execute_result"
    }
   ],
   "source": [
    "import re\n",
    "\n",
    "def extract_resolution(text):\n",
    "    pattern = r'(\\d+\\s*x\\s*\\d+)'\n",
    "    match = re.search(pattern, text)\n",
    "    if match:\n",
    "        return match.group(1)\n",
    "    else:\n",
    "        return None\n",
    "\n",
    "# Example usage\n",
    "text = 'Độ phân giải: 1200x2652 Pixels'\n",
    "resolution = extract_resolution(text)\n",
    "print(resolution)\n",
    "\n",
    "df['Độ phân giải'] = df['Độ phân giải'].str.extract(r'(\\d+\\s*x\\s*\\d+)')\n",
    "df['Độ phân giải'].unique()"
   ]
  },
  {
   "cell_type": "code",
   "execution_count": 630,
   "metadata": {},
   "outputs": [],
   "source": [
    "df.to_csv('data/data_cleaned.csv')"
   ]
  }
 ],
 "metadata": {
  "kernelspec": {
   "display_name": "Python 3",
   "language": "python",
   "name": "python3"
  },
  "language_info": {
   "codemirror_mode": {
    "name": "ipython",
    "version": 3
   },
   "file_extension": ".py",
   "mimetype": "text/x-python",
   "name": "python",
   "nbconvert_exporter": "python",
   "pygments_lexer": "ipython3",
   "version": "3.11.2"
  }
 },
 "nbformat": 4,
 "nbformat_minor": 2
}
