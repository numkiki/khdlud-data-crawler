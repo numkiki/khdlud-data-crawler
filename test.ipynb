{
 "cells": [
  {
   "cell_type": "code",
   "execution_count": 1,
   "metadata": {},
   "outputs": [],
   "source": [
    "from bs4 import BeautifulSoup\n",
    "import requests\n",
    "from selenium import webdriver"
   ]
  },
  {
   "cell_type": "markdown",
   "metadata": {},
   "source": [
    "Declare important variables"
   ]
  },
  {
   "cell_type": "code",
   "execution_count": null,
   "metadata": {},
   "outputs": [],
   "source": [
    "url = r\"https://cellphones.com.vn/mobile.html\""
   ]
  },
  {
   "cell_type": "markdown",
   "metadata": {},
   "source": [
    "Functions to use:"
   ]
  },
  {
   "cell_type": "code",
   "execution_count": 6,
   "metadata": {},
   "outputs": [],
   "source": [
    "def get_response(url):\n",
    "    response = requests.get(url)\n",
    "    result = response.text\n",
    "    print(response.status_code)\n",
    "    return result\n",
    "\n",
    "def get_html(response):\n",
    "    html_content = requests.get(url)\n",
    "    soup = BeautifulSoup(html_content.content, \"html.parser\") \n",
    "    return soup"
   ]
  },
  {
   "cell_type": "code",
   "execution_count": 8,
   "metadata": {},
   "outputs": [
    {
     "name": "stdout",
     "output_type": "stream",
     "text": [
      "200\n",
      "\n",
      " result\n"
     ]
    }
   ],
   "source": [
    "response = get_response(url)\n",
    "html = get_html(response)"
   ]
  },
  {
   "cell_type": "code",
   "execution_count": 10,
   "metadata": {},
   "outputs": [
    {
     "name": "stdout",
     "output_type": "stream",
     "text": [
      "20\n",
      "Product link: /samsung-galaxy-s24-ultra.html\n",
      "Product link: /iphone-15-pro-max.html\n",
      "Product link: /samsung-galaxy-s23-ultra.html\n",
      "Product link: /iphone-13.html\n",
      "Product link: /xiaomi-redmi-note-13.html\n",
      "Product link: /iphone-14-pro-max.html\n",
      "Product link: /iphone-15.html\n",
      "Product link: /xiaomi-redmi-note-13-pro-plus.html\n",
      "Product link: /samsung-galaxy-z-flip-5.html\n",
      "Product link: /iphone-15-plus.html\n",
      "Product link: /xiaomi-redmi-note-12-8gb-128gb.html\n",
      "Product link: /iphone-15-pro.html\n",
      "Product link: /iphone-14-pro.html\n",
      "Product link: /samsung-galaxy-s22-ultra-12gb-256gb.html\n",
      "Product link: /dien-thoai-xiaomi-poco-x6-pro.html\n",
      "Product link: /samsung-galaxy-a15.html\n",
      "Product link: /xiaomi-redmi-note-13-pro.html\n",
      "Product link: /iphone-14.html\n",
      "Product link: /samsung-galaxy-z-flip-5-256gb.html\n"
     ]
    }
   ],
   "source": [
    "products = html.find_all(\"div\", class_ = \"product-info\", limit=None)\n",
    "print(len(products))\n",
    "for product in products:\n",
    "    product_price_before = str(product.find(\"p\", class_ = \"product__price--through\"))\n",
    "    if product_price_before != \"None\":\n",
    "        product_link = product.find(\"a\", class_ = \"product__link\").get(\"href\")\n",
    "        product_name = product.find(\"div\", class_ = \"product__name\")\n",
    "        product_price_current = product.find(\"p\", class_ = \"product__price--show\")\n",
    "        product_promotion = product.find(\"div\", class_ = \"promotion\").p.text\n",
    "        product_promotion.replace(\" khác\", \"\")\n",
    "        print(f\"Product link: {product_link}\")"
   ]
  }
 ],
 "metadata": {
  "kernelspec": {
   "display_name": "Python 3",
   "language": "python",
   "name": "python3"
  },
  "language_info": {
   "codemirror_mode": {
    "name": "ipython",
    "version": 3
   },
   "file_extension": ".py",
   "mimetype": "text/x-python",
   "name": "python",
   "nbconvert_exporter": "python",
   "pygments_lexer": "ipython3",
   "version": "3.11.2"
  }
 },
 "nbformat": 4,
 "nbformat_minor": 2
}
